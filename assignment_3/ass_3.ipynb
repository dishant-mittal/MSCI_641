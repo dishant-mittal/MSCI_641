{
 "cells": [
  {
   "cell_type": "code",
   "execution_count": 30,
   "metadata": {},
   "outputs": [],
   "source": [
    "from gensim.models import Word2Vec, KeyedVectors\n",
    "import pandas as pd\n",
    "import nltk"
   ]
  },
  {
   "cell_type": "code",
   "execution_count": 31,
   "metadata": {},
   "outputs": [
    {
     "data": {
      "text/html": [
       "<div>\n",
       "<style scoped>\n",
       "    .dataframe tbody tr th:only-of-type {\n",
       "        vertical-align: middle;\n",
       "    }\n",
       "\n",
       "    .dataframe tbody tr th {\n",
       "        vertical-align: top;\n",
       "    }\n",
       "\n",
       "    .dataframe thead th {\n",
       "        text-align: right;\n",
       "    }\n",
       "</style>\n",
       "<table border=\"1\" class=\"dataframe\">\n",
       "  <thead>\n",
       "    <tr style=\"text-align: right;\">\n",
       "      <th></th>\n",
       "      <th>reviews</th>\n",
       "    </tr>\n",
       "  </thead>\n",
       "  <tbody>\n",
       "    <tr>\n",
       "      <th>0</th>\n",
       "      <td>My daughter wanted this book and the price on ...</td>\n",
       "    </tr>\n",
       "    <tr>\n",
       "      <th>1</th>\n",
       "      <td>She has already tried one recipe a day after r...</td>\n",
       "    </tr>\n",
       "    <tr>\n",
       "      <th>2</th>\n",
       "      <td>I bought this zoku quick pop for my daughterr ...</td>\n",
       "    </tr>\n",
       "    <tr>\n",
       "      <th>3</th>\n",
       "      <td>She loves it and have fun to make her own ice ...</td>\n",
       "    </tr>\n",
       "    <tr>\n",
       "      <th>4</th>\n",
       "      <td>I was hoping there were more where those came ...</td>\n",
       "    </tr>\n",
       "  </tbody>\n",
       "</table>\n",
       "</div>"
      ],
      "text/plain": [
       "                                             reviews\n",
       "0  My daughter wanted this book and the price on ...\n",
       "1  She has already tried one recipe a day after r...\n",
       "2  I bought this zoku quick pop for my daughterr ...\n",
       "3  She loves it and have fun to make her own ice ...\n",
       "4  I was hoping there were more where those came ..."
      ]
     },
     "execution_count": 31,
     "metadata": {},
     "output_type": "execute_result"
    }
   ],
   "source": [
    "# #Read data\n",
    "cols = [\"reviews\"]\n",
    "data_1 = pd.read_csv('../data/pos.txt', names=cols, sep=\"\\n\",header=None)\n",
    "# print(len(data_1))\n",
    "data_2 = pd.read_csv('../data/neg.txt', names=cols, sep=\"\\n\",header=None)\n",
    "# print(len(data_2))\n",
    "df=data_1.append(data_2)\n",
    "# print(len(data))\n",
    "df.head()"
   ]
  },
  {
   "cell_type": "code",
   "execution_count": 32,
   "metadata": {},
   "outputs": [],
   "source": [
    "reviews= df['reviews'].values"
   ]
  },
  {
   "cell_type": "code",
   "execution_count": 33,
   "metadata": {},
   "outputs": [
    {
     "data": {
      "text/plain": [
       "array(['My daughter wanted this book and the price on Amazon was the best.',\n",
       "       'She has already tried one recipe a day after receiving the book.',\n",
       "       'I bought this zoku quick pop for my daughterr with her zoku quick maker.',\n",
       "       ...,\n",
       "       'There were cases where I would finally find the hiding point behind the rock, and I still got killed RIGHT THROUGH THE ROCK.',\n",
       "       'So you die, and you die, and you die, and you die, and you die, and you die.',\n",
       "       \"well, you get the picture.If I don't like a game, I usually put it away for good.\"],\n",
       "      dtype=object)"
      ]
     },
     "execution_count": 33,
     "metadata": {},
     "output_type": "execute_result"
    }
   ],
   "source": [
    "reviews"
   ]
  },
  {
   "cell_type": "code",
   "execution_count": 34,
   "metadata": {},
   "outputs": [
    {
     "name": "stderr",
     "output_type": "stream",
     "text": [
      "[nltk_data] Downloading package punkt to /home/dishant/nltk_data...\n",
      "[nltk_data]   Package punkt is already up-to-date!\n"
     ]
    },
    {
     "data": {
      "text/plain": [
       "True"
      ]
     },
     "execution_count": 34,
     "metadata": {},
     "output_type": "execute_result"
    }
   ],
   "source": [
    "nltk.download('punkt')"
   ]
  },
  {
   "cell_type": "code",
   "execution_count": 35,
   "metadata": {},
   "outputs": [],
   "source": [
    "reviews_vec = [nltk.word_tokenize(title) for title in reviews]"
   ]
  },
  {
   "cell_type": "code",
   "execution_count": 36,
   "metadata": {
    "scrolled": true
   },
   "outputs": [
    {
     "name": "stdout",
     "output_type": "stream",
     "text": [
      "[['My', 'daughter', 'wanted', 'this', 'book', 'and', 'the', 'price', 'on', 'Amazon', 'was', 'the', 'best', '.'], ['She', 'has', 'already', 'tried', 'one', 'recipe', 'a', 'day', 'after', 'receiving', 'the', 'book', '.'], ['I', 'bought', 'this', 'zoku', 'quick', 'pop', 'for', 'my', 'daughterr', 'with', 'her', 'zoku', 'quick', 'maker', '.']]\n"
     ]
    }
   ],
   "source": [
    "print(reviews_vec[0:3])"
   ]
  },
  {
   "cell_type": "code",
   "execution_count": 23,
   "metadata": {},
   "outputs": [
    {
     "name": "stdout",
     "output_type": "stream",
     "text": [
      "799115\n"
     ]
    }
   ],
   "source": [
    "print(len(reviews_vec))"
   ]
  },
  {
   "cell_type": "code",
   "execution_count": 8,
   "metadata": {},
   "outputs": [],
   "source": [
    "model=Word2Vec(reviews_vec, min_count=20, size=200,iter=5)"
   ]
  },
  {
   "cell_type": "code",
   "execution_count": 9,
   "metadata": {},
   "outputs": [
    {
     "data": {
      "text/plain": [
       "[('decent', 0.7675749063491821),\n",
       " ('great', 0.7505208253860474),\n",
       " ('nice', 0.6823163628578186),\n",
       " ('terrific', 0.6748557090759277),\n",
       " ('superb', 0.6638234853744507),\n",
       " ('fantastic', 0.6424837112426758),\n",
       " ('wonderful', 0.6376839876174927),\n",
       " ('bad', 0.6211050152778625),\n",
       " ('fabulous', 0.6028350591659546),\n",
       " ('reasonable', 0.580609917640686),\n",
       " ('impressive', 0.5778822898864746),\n",
       " ('excellent', 0.5694127678871155),\n",
       " ('poor', 0.5574091672897339),\n",
       " ('okay', 0.5562349557876587),\n",
       " ('terrible', 0.550309419631958),\n",
       " ('OK', 0.5496242642402649),\n",
       " ('alright', 0.5461167097091675),\n",
       " ('awesome', 0.5443459153175354),\n",
       " ('lovely', 0.5434608459472656),\n",
       " ('horrible', 0.5363942384719849)]"
      ]
     },
     "execution_count": 9,
     "metadata": {},
     "output_type": "execute_result"
    }
   ],
   "source": [
    "model.wv.most_similar('good', topn=20)"
   ]
  },
  {
   "cell_type": "code",
   "execution_count": 10,
   "metadata": {},
   "outputs": [
    {
     "data": {
      "text/plain": [
       "[('horrible', 0.6320857405662537),\n",
       " ('good', 0.6211050152778625),\n",
       " ('terrible', 0.6172447204589844),\n",
       " ('awful', 0.5698089599609375),\n",
       " ('lame', 0.5494505167007446),\n",
       " ('funny', 0.535430908203125),\n",
       " ('poor', 0.5286415815353394),\n",
       " ('scary', 0.5087136030197144),\n",
       " ('strange', 0.5080284476280212),\n",
       " ('weird', 0.5059990882873535),\n",
       " ('stupid', 0.49934226274490356),\n",
       " ('fake', 0.4983983635902405),\n",
       " ('lousy', 0.49683254957199097),\n",
       " ('sad', 0.4949970841407776),\n",
       " ('weak', 0.48531755805015564),\n",
       " ('obvious', 0.48380517959594727),\n",
       " ('crappy', 0.483625590801239),\n",
       " ('loud', 0.4792683720588684),\n",
       " ('nasty', 0.4711865782737732),\n",
       " ('dumb', 0.4694211483001709)]"
      ]
     },
     "execution_count": 10,
     "metadata": {},
     "output_type": "execute_result"
    }
   ],
   "source": [
    "model.wv.most_similar('bad', topn=20)"
   ]
  },
  {
   "cell_type": "code",
   "execution_count": null,
   "metadata": {},
   "outputs": [],
   "source": []
  },
  {
   "cell_type": "code",
   "execution_count": null,
   "metadata": {},
   "outputs": [],
   "source": []
  },
  {
   "cell_type": "code",
   "execution_count": null,
   "metadata": {},
   "outputs": [],
   "source": []
  },
  {
   "cell_type": "code",
   "execution_count": null,
   "metadata": {},
   "outputs": [],
   "source": []
  }
 ],
 "metadata": {
  "kernelspec": {
   "display_name": "Python 3",
   "language": "python",
   "name": "python3"
  },
  "language_info": {
   "codemirror_mode": {
    "name": "ipython",
    "version": 3
   },
   "file_extension": ".py",
   "mimetype": "text/x-python",
   "name": "python",
   "nbconvert_exporter": "python",
   "pygments_lexer": "ipython3",
   "version": "3.7.3"
  }
 },
 "nbformat": 4,
 "nbformat_minor": 2
}
