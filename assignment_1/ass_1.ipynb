{
 "cells": [
  {
   "cell_type": "code",
   "execution_count": 1,
   "metadata": {},
   "outputs": [
    {
     "name": "stdout",
     "output_type": "stream",
     "text": [
      "/home/dishant/projects/MSCI_641/assignment_1\n"
     ]
    },
    {
     "name": "stderr",
     "output_type": "stream",
     "text": [
      "[nltk_data] Downloading package stopwords to\n",
      "[nltk_data]     /home/dishant/nltk_data...\n",
      "[nltk_data]   Package stopwords is already up-to-date!\n"
     ]
    }
   ],
   "source": [
    "import pandas as pd\n",
    "import random\n",
    "import os\n",
    "import re\n",
    "import numpy as np\n",
    "import nltk; nltk.download('stopwords')\n",
    "from nltk.corpus import stopwords\n",
    "            \n",
    "pd.set_option('display.max_columns', 136)\n",
    "pd.set_option('display.max_colwidth', -1)\n",
    "\n",
    "#print current working directory\n",
    "cwd = os.getcwd()\n",
    "print(cwd)"
   ]
  },
  {
   "cell_type": "code",
   "execution_count": 5,
   "metadata": {},
   "outputs": [
    {
     "data": {
      "text/plain": [
       "False"
      ]
     },
     "execution_count": 5,
     "metadata": {},
     "output_type": "execute_result"
    }
   ],
   "source": [
    "stop_words = stopwords.words('english')\n",
    "'happy' in stop_words"
   ]
  },
  {
   "cell_type": "code",
   "execution_count": 82,
   "metadata": {},
   "outputs": [],
   "source": [
    "# #Read data\n",
    "# cols = [\"reviews\"]\n",
    "# data_1 = pd.read_csv('../data/pos.txt', names=cols, sep=\"\\n\",header=None)\n",
    "# # print(len(data_1))\n",
    "# data_2 = pd.read_csv('../data/neg.txt', names=cols, sep=\"\\n\",header=None)\n",
    "# # print(len(data_2))\n",
    "# df=data_1.append(data_2)\n",
    "# # print(len(data))\n",
    "# df.head()"
   ]
  },
  {
   "cell_type": "code",
   "execution_count": 83,
   "metadata": {},
   "outputs": [
    {
     "name": "stdout",
     "output_type": "stream",
     "text": [
      "[';My; ;daughter@@@ wanted @this book and the price on Amazon was the best.\\n', 'She has already tried one recipe a day after receiving the book.\\n', 'I bought this zoku quick pop for my daughterr with her zoku quick maker.\\n']\n"
     ]
    }
   ],
   "source": [
    "#Read data\n",
    "# cols = [\"reviews\"]\n",
    "# df = pd.read_csv('../data/pos.txt', names=cols, sep=\"\\n\",header=None,error_bad_lines=False)\n",
    "# df.head()\n",
    "\n",
    "with open('../data/pos.txt') as f:\n",
    "    reviews = f.readlines()\n",
    "    \n",
    "print(reviews[0:3])"
   ]
  },
  {
   "cell_type": "code",
   "execution_count": 84,
   "metadata": {},
   "outputs": [
    {
     "name": "stdout",
     "output_type": "stream",
     "text": [
      "(399655, 1)\n"
     ]
    }
   ],
   "source": [
    "print(len(reviews))"
   ]
  },
  {
   "cell_type": "code",
   "execution_count": 85,
   "metadata": {},
   "outputs": [
    {
     "name": "stdout",
     "output_type": "stream",
     "text": [
      "[[';', 'My', ';', ';', 'daughter', '@', '@', '@', 'wanted', '@', 'this', 'book', 'and', 'the', 'price', 'on', 'Amazon', 'was', 'the', 'best', '.'], ['She', 'has', 'already', 'tried', 'one', 'recipe', 'a', 'day', 'after', 'receiving', 'the', 'book', '.'], ['I', 'bought', 'this', 'zoku', 'quick', 'pop', 'for', 'my', 'daughterr', 'with', 'her', 'zoku', 'quick', 'maker', '.'], ['She', 'loves', 'it', 'and', 'have', 'fun', 'to', 'make', 'her', 'own', 'ice', 'cream', '.']]\n"
     ]
    }
   ],
   "source": [
    "#tokenize\n",
    "pat = re.compile(r\"([^\\w\\s])\") \n",
    "\n",
    "#adding spaces before and after all punctuation characters\n",
    "def add_spaces(item):\n",
    "    global pat\n",
    "    return pat.sub(\" \\\\1 \", item)\n",
    "\n",
    "# df['reviews']=df['reviews'].apply(add_spaces)\n",
    "# df['tokenized'] = df[\"reviews\"].str.split(\" \", expand = False)\n",
    "reviews = [add_spaces(item) for item in reviews]\n",
    "tokenized = [item.split() for item in reviews]\n",
    "# df.head()\n",
    "print(tokenized[0:4])"
   ]
  },
  {
   "cell_type": "code",
   "execution_count": 86,
   "metadata": {},
   "outputs": [
    {
     "name": "stdout",
     "output_type": "stream",
     "text": [
      "[['my', 'daughter', 'wanted', 'this', 'book', 'and', 'the', 'price', 'on', 'amazon', 'was', 'the', 'best', '.'], ['she', 'has', 'already', 'tried', 'one', 'recipe', 'a', 'day', 'after', 'receiving', 'the', 'book', '.'], ['i', 'bought', 'this', 'zoku', 'quick', 'pop', 'for', 'my', 'daughterr', 'with', 'her', 'zoku', 'quick', 'maker', '.'], ['she', 'loves', 'it', 'and', 'have', 'fun', 'to', 'make', 'her', 'own', 'ice', 'cream', '.']]\n",
      "[['daughter', 'wanted', 'book', 'price', 'amazon', 'best', '.'], ['already', 'tried', 'one', 'recipe', 'day', 'receiving', 'book', '.'], ['bought', 'zoku', 'quick', 'pop', 'daughterr', 'zoku', 'quick', 'maker', '.'], ['loves', 'fun', 'make', 'ice', 'cream', '.']]\n"
     ]
    }
   ],
   "source": [
    "#converting tokens into lowercase\n",
    "#and\n",
    "#Removing special characters\n",
    "pattern= r'[!#\"$%&()*+/:;<=,>@\\[\\\\\\]^`{\\}~\\t\\n]+'\n",
    "\n",
    "def remove_special_chars(item):\n",
    "    global pattern\n",
    "    temp_list = [re.sub(pattern,'', x.lower()) for x in item]\n",
    "    return [i for i in temp_list if i]\n",
    "\n",
    "def remove_stop_words(item):\n",
    "    return [i for i in item if (i not in stop_words)]\n",
    "\n",
    "# df['tokenized'] = df['tokenized'].apply(remove_special_chars)\n",
    "# df['tokenized_no_stopwords'] = df['tokenized'].apply(remove_stop_words)\n",
    "\n",
    "tokenized = [remove_special_chars(item) for item in tokenized]\n",
    "tokenized_no_stopwords = [remove_stop_words(item) for item in tokenized]\n",
    "\n",
    "# df.head()\n",
    "print(tokenized[0:4])\n",
    "print(tokenized_no_stopwords[0:4])"
   ]
  },
  {
   "cell_type": "code",
   "execution_count": 37,
   "metadata": {},
   "outputs": [],
   "source": [
    "#SHUFFLING (UNCOMMENT FOLLOWING IF NEED TO SHUFFLE ALSO)\n",
    "# df = df.sample(frac=1).reset_index(drop=True)\n",
    "\n",
    "# shuffle_dataset (my own shuffle code from scratch) uncomment the following method to test\n",
    "# def shuffle_in_place(array):\n",
    "#     array_len = len(array)\n",
    "#     assert array_len > 2, 'This list is very short to shuffle'\n",
    "#     for index in range(array_len):\n",
    "#         swap = random.randrange(array_len - 1)\n",
    "#         swap += swap >= index\n",
    "#         array.iloc[index], array.iloc[swap] = array.iloc[swap], array.iloc[index]\n",
    "        \n",
    "# # arr=[1,2,3,4,5,6]\n",
    "# shuffle_in_place(df)\n",
    "# df.head()\n",
    "\n",
    "\n",
    "\n",
    "\n",
    "random.shuffle(tokenized)\n",
    "random.shuffle(tokenized_no_stopwords)"
   ]
  },
  {
   "cell_type": "code",
   "execution_count": 213,
   "metadata": {
    "scrolled": true
   },
   "outputs": [],
   "source": [
    "#####IN CASE YOU WANT TO REMOVE [ ] BRACKETS WHICH ARE WRITTEN BEFORE AND AFTER EACH SENTENCE IN THE FINAL CSV\n",
    "#####JUST UNCOMMENT THE FOLLOWING CODE\n",
    "\n",
    "# def list_to_string(item):\n",
    "#     return \",\".join(item)\n",
    "\n",
    "# df['tokenized'] = df['tokenized'].apply(list_to_string)\n",
    "# df['tokenized_no_stopwords'] = df['tokenized_no_stopwords'].apply(list_to_string)\n",
    "\n",
    "# df.head()"
   ]
  },
  {
   "cell_type": "code",
   "execution_count": null,
   "metadata": {},
   "outputs": [],
   "source": []
  },
  {
   "cell_type": "code",
   "execution_count": null,
   "metadata": {},
   "outputs": [],
   "source": []
  },
  {
   "cell_type": "code",
   "execution_count": 89,
   "metadata": {},
   "outputs": [
    {
     "name": "stdout",
     "output_type": "stream",
     "text": [
      "400000\n",
      "320000\n",
      "40000\n",
      "40000\n"
     ]
    }
   ],
   "source": [
    "#split into traning, validation, test\n",
    "print(len(tokenized))\n",
    "train_end=int(0.8 * len(tokenized))\n",
    "\n",
    "validation_end=int(train_end+ 0.1 * len(tokenized))\n",
    "\n",
    "# train_set = df[0:train_end]\n",
    "# validation_set = df[train_end:validation_end+1]\n",
    "# test_set = df[validation_end+1:len(df)]\n",
    "\n",
    "train_list = tokenized[0:train_end]\n",
    "val_list = tokenized[train_end:validation_end]\n",
    "test_list = tokenized[validation_end:len(tokenized)]\n",
    "\n",
    "#save_lists\n",
    "# train_list= list(train_set['tokenized'])\n",
    "# val_list= list(validation_set['tokenized'])\n",
    "# test_list= list(test_set['tokenized'])\n",
    "\n",
    "\n",
    "np.savetxt(\"train.csv\", train_list, delimiter=\",\", fmt='%s')\n",
    "np.savetxt(\"val.csv\", val_list, delimiter=\",\", fmt='%s')\n",
    "np.savetxt(\"test.csv\", test_list, delimiter=\",\", fmt='%s')\n",
    "\n",
    "\n",
    "print(len(train_list))\n",
    "print(len(val_list))\n",
    "print(len(test_list))\n",
    "# train_set.head()\n",
    "\n"
   ]
  },
  {
   "cell_type": "code",
   "execution_count": null,
   "metadata": {},
   "outputs": [],
   "source": []
  },
  {
   "cell_type": "code",
   "execution_count": null,
   "metadata": {},
   "outputs": [],
   "source": []
  },
  {
   "cell_type": "code",
   "execution_count": null,
   "metadata": {},
   "outputs": [],
   "source": []
  }
 ],
 "metadata": {
  "kernelspec": {
   "display_name": "Python 3",
   "language": "python",
   "name": "python3"
  },
  "language_info": {
   "codemirror_mode": {
    "name": "ipython",
    "version": 3
   },
   "file_extension": ".py",
   "mimetype": "text/x-python",
   "name": "python",
   "nbconvert_exporter": "python",
   "pygments_lexer": "ipython3",
   "version": "3.7.3"
  }
 },
 "nbformat": 4,
 "nbformat_minor": 2
}
