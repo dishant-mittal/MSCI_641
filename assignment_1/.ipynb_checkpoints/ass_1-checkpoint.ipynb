{
 "cells": [
  {
   "cell_type": "code",
   "execution_count": 206,
   "metadata": {},
   "outputs": [
    {
     "name": "stdout",
     "output_type": "stream",
     "text": [
      "/home/dishant/projects/MSCI_641/assignment_1\n"
     ]
    },
    {
     "name": "stderr",
     "output_type": "stream",
     "text": [
      "[nltk_data] Downloading package stopwords to\n",
      "[nltk_data]     /home/dishant/nltk_data...\n",
      "[nltk_data]   Package stopwords is already up-to-date!\n"
     ]
    }
   ],
   "source": [
    "import pandas as pd\n",
    "import random\n",
    "import os\n",
    "import re\n",
    "import numpy as np\n",
    "import nltk; nltk.download('stopwords')\n",
    "from nltk.corpus import stopwords\n",
    "            \n",
    "pd.set_option('display.max_columns', 136)\n",
    "pd.set_option('display.max_colwidth', -1)\n",
    "\n",
    "#print current working directory\n",
    "cwd = os.getcwd()\n",
    "print(cwd)"
   ]
  },
  {
   "cell_type": "code",
   "execution_count": 207,
   "metadata": {},
   "outputs": [],
   "source": [
    "stop_words = stopwords.words('english')"
   ]
  },
  {
   "cell_type": "code",
   "execution_count": 208,
   "metadata": {},
   "outputs": [],
   "source": [
    "# #Read data\n",
    "# cols = [\"reviews\"]\n",
    "# data_1 = pd.read_csv('../data/pos.txt', names=cols, sep=\"\\n\",header=None)\n",
    "# # print(len(data_1))\n",
    "# data_2 = pd.read_csv('../data/neg.txt', names=cols, sep=\"\\n\",header=None)\n",
    "# # print(len(data_2))\n",
    "# df=data_1.append(data_2)\n",
    "# # print(len(data))\n",
    "# df.head()"
   ]
  },
  {
   "cell_type": "code",
   "execution_count": 209,
   "metadata": {},
   "outputs": [
    {
     "data": {
      "text/html": [
       "<div>\n",
       "<style scoped>\n",
       "    .dataframe tbody tr th:only-of-type {\n",
       "        vertical-align: middle;\n",
       "    }\n",
       "\n",
       "    .dataframe tbody tr th {\n",
       "        vertical-align: top;\n",
       "    }\n",
       "\n",
       "    .dataframe thead th {\n",
       "        text-align: right;\n",
       "    }\n",
       "</style>\n",
       "<table border=\"1\" class=\"dataframe\">\n",
       "  <thead>\n",
       "    <tr style=\"text-align: right;\">\n",
       "      <th></th>\n",
       "      <th>reviews</th>\n",
       "    </tr>\n",
       "  </thead>\n",
       "  <tbody>\n",
       "    <tr>\n",
       "      <th>0</th>\n",
       "      <td>My daughter wanted this book and the price on Amazon was the best.</td>\n",
       "    </tr>\n",
       "    <tr>\n",
       "      <th>1</th>\n",
       "      <td>She has already tried one recipe a day after receiving the book.</td>\n",
       "    </tr>\n",
       "    <tr>\n",
       "      <th>2</th>\n",
       "      <td>I bought this zoku quick pop for my daughterr with her zoku quick maker.</td>\n",
       "    </tr>\n",
       "    <tr>\n",
       "      <th>3</th>\n",
       "      <td>She loves it and have fun to make her own ice cream.</td>\n",
       "    </tr>\n",
       "    <tr>\n",
       "      <th>4</th>\n",
       "      <td>I was hoping there were more where those came from.</td>\n",
       "    </tr>\n",
       "  </tbody>\n",
       "</table>\n",
       "</div>"
      ],
      "text/plain": [
       "                                                                    reviews\n",
       "0  My daughter wanted this book and the price on Amazon was the best.      \n",
       "1  She has already tried one recipe a day after receiving the book.        \n",
       "2  I bought this zoku quick pop for my daughterr with her zoku quick maker.\n",
       "3  She loves it and have fun to make her own ice cream.                    \n",
       "4  I was hoping there were more where those came from.                     "
      ]
     },
     "execution_count": 209,
     "metadata": {},
     "output_type": "execute_result"
    }
   ],
   "source": [
    "#Read data\n",
    "cols = [\"reviews\"]\n",
    "df = pd.read_csv('../data/pos.txt', names=cols, sep=\"\\n\",header=None)\n",
    "df.head()"
   ]
  },
  {
   "cell_type": "code",
   "execution_count": 210,
   "metadata": {},
   "outputs": [
    {
     "data": {
      "text/html": [
       "<div>\n",
       "<style scoped>\n",
       "    .dataframe tbody tr th:only-of-type {\n",
       "        vertical-align: middle;\n",
       "    }\n",
       "\n",
       "    .dataframe tbody tr th {\n",
       "        vertical-align: top;\n",
       "    }\n",
       "\n",
       "    .dataframe thead th {\n",
       "        text-align: right;\n",
       "    }\n",
       "</style>\n",
       "<table border=\"1\" class=\"dataframe\">\n",
       "  <thead>\n",
       "    <tr style=\"text-align: right;\">\n",
       "      <th></th>\n",
       "      <th>reviews</th>\n",
       "      <th>tokenized</th>\n",
       "    </tr>\n",
       "  </thead>\n",
       "  <tbody>\n",
       "    <tr>\n",
       "      <th>0</th>\n",
       "      <td>My daughter wanted this book and the price on Amazon was the best .</td>\n",
       "      <td>[My, daughter, wanted, this, book, and, the, price, on, Amazon, was, the, best, ., ]</td>\n",
       "    </tr>\n",
       "    <tr>\n",
       "      <th>1</th>\n",
       "      <td>She has already tried one recipe a day after receiving the book .</td>\n",
       "      <td>[She, has, already, tried, one, recipe, a, day, after, receiving, the, book, ., ]</td>\n",
       "    </tr>\n",
       "    <tr>\n",
       "      <th>2</th>\n",
       "      <td>I bought this zoku quick pop for my daughterr with her zoku quick maker .</td>\n",
       "      <td>[I, bought, this, zoku, quick, pop, for, my, daughterr, with, her, zoku, quick, maker, ., ]</td>\n",
       "    </tr>\n",
       "    <tr>\n",
       "      <th>3</th>\n",
       "      <td>She loves it and have fun to make her own ice cream .</td>\n",
       "      <td>[She, loves, it, and, have, fun, to, make, her, own, ice, cream, ., ]</td>\n",
       "    </tr>\n",
       "    <tr>\n",
       "      <th>4</th>\n",
       "      <td>I was hoping there were more where those came from .</td>\n",
       "      <td>[I, was, hoping, there, were, more, where, those, came, from, ., ]</td>\n",
       "    </tr>\n",
       "  </tbody>\n",
       "</table>\n",
       "</div>"
      ],
      "text/plain": [
       "                                                                      reviews  \\\n",
       "0  My daughter wanted this book and the price on Amazon was the best .          \n",
       "1  She has already tried one recipe a day after receiving the book .            \n",
       "2  I bought this zoku quick pop for my daughterr with her zoku quick maker .    \n",
       "3  She loves it and have fun to make her own ice cream .                        \n",
       "4  I was hoping there were more where those came from .                         \n",
       "\n",
       "                                                                                     tokenized  \n",
       "0  [My, daughter, wanted, this, book, and, the, price, on, Amazon, was, the, best, ., ]         \n",
       "1  [She, has, already, tried, one, recipe, a, day, after, receiving, the, book, ., ]            \n",
       "2  [I, bought, this, zoku, quick, pop, for, my, daughterr, with, her, zoku, quick, maker, ., ]  \n",
       "3  [She, loves, it, and, have, fun, to, make, her, own, ice, cream, ., ]                        \n",
       "4  [I, was, hoping, there, were, more, where, those, came, from, ., ]                           "
      ]
     },
     "execution_count": 210,
     "metadata": {},
     "output_type": "execute_result"
    }
   ],
   "source": [
    "#tokenize\n",
    "pat = re.compile(r\"([^\\w\\s])\") \n",
    "\n",
    "#adding spaces before and after all punctuation characters\n",
    "def add_spaces(item):\n",
    "    global pat\n",
    "    return pat.sub(\" \\\\1 \", item)\n",
    "\n",
    "df['reviews']=df['reviews'].apply(add_spaces)\n",
    "df['tokenized'] = df[\"reviews\"].str.split(\" \", expand = False)\n",
    "df.head()"
   ]
  },
  {
   "cell_type": "code",
   "execution_count": 211,
   "metadata": {},
   "outputs": [
    {
     "data": {
      "text/html": [
       "<div>\n",
       "<style scoped>\n",
       "    .dataframe tbody tr th:only-of-type {\n",
       "        vertical-align: middle;\n",
       "    }\n",
       "\n",
       "    .dataframe tbody tr th {\n",
       "        vertical-align: top;\n",
       "    }\n",
       "\n",
       "    .dataframe thead th {\n",
       "        text-align: right;\n",
       "    }\n",
       "</style>\n",
       "<table border=\"1\" class=\"dataframe\">\n",
       "  <thead>\n",
       "    <tr style=\"text-align: right;\">\n",
       "      <th></th>\n",
       "      <th>reviews</th>\n",
       "      <th>tokenized</th>\n",
       "      <th>tokenized_no_stopwords</th>\n",
       "    </tr>\n",
       "  </thead>\n",
       "  <tbody>\n",
       "    <tr>\n",
       "      <th>0</th>\n",
       "      <td>My daughter wanted this book and the price on Amazon was the best .</td>\n",
       "      <td>[my, daughter, wanted, this, book, and, the, price, on, amazon, was, the, best, .]</td>\n",
       "      <td>[daughter, wanted, book, price, amazon, best, .]</td>\n",
       "    </tr>\n",
       "    <tr>\n",
       "      <th>1</th>\n",
       "      <td>She has already tried one recipe a day after receiving the book .</td>\n",
       "      <td>[she, has, already, tried, one, recipe, a, day, after, receiving, the, book, .]</td>\n",
       "      <td>[already, tried, one, recipe, day, receiving, book, .]</td>\n",
       "    </tr>\n",
       "    <tr>\n",
       "      <th>2</th>\n",
       "      <td>I bought this zoku quick pop for my daughterr with her zoku quick maker .</td>\n",
       "      <td>[i, bought, this, zoku, quick, pop, for, my, daughterr, with, her, zoku, quick, maker, .]</td>\n",
       "      <td>[bought, zoku, quick, pop, daughterr, zoku, quick, maker, .]</td>\n",
       "    </tr>\n",
       "    <tr>\n",
       "      <th>3</th>\n",
       "      <td>She loves it and have fun to make her own ice cream .</td>\n",
       "      <td>[she, loves, it, and, have, fun, to, make, her, own, ice, cream, .]</td>\n",
       "      <td>[loves, fun, make, ice, cream, .]</td>\n",
       "    </tr>\n",
       "    <tr>\n",
       "      <th>4</th>\n",
       "      <td>I was hoping there were more where those came from .</td>\n",
       "      <td>[i, was, hoping, there, were, more, where, those, came, from, .]</td>\n",
       "      <td>[hoping, came, .]</td>\n",
       "    </tr>\n",
       "  </tbody>\n",
       "</table>\n",
       "</div>"
      ],
      "text/plain": [
       "                                                                      reviews  \\\n",
       "0  My daughter wanted this book and the price on Amazon was the best .          \n",
       "1  She has already tried one recipe a day after receiving the book .            \n",
       "2  I bought this zoku quick pop for my daughterr with her zoku quick maker .    \n",
       "3  She loves it and have fun to make her own ice cream .                        \n",
       "4  I was hoping there were more where those came from .                         \n",
       "\n",
       "                                                                                   tokenized  \\\n",
       "0  [my, daughter, wanted, this, book, and, the, price, on, amazon, was, the, best, .]          \n",
       "1  [she, has, already, tried, one, recipe, a, day, after, receiving, the, book, .]             \n",
       "2  [i, bought, this, zoku, quick, pop, for, my, daughterr, with, her, zoku, quick, maker, .]   \n",
       "3  [she, loves, it, and, have, fun, to, make, her, own, ice, cream, .]                         \n",
       "4  [i, was, hoping, there, were, more, where, those, came, from, .]                            \n",
       "\n",
       "                                         tokenized_no_stopwords  \n",
       "0  [daughter, wanted, book, price, amazon, best, .]              \n",
       "1  [already, tried, one, recipe, day, receiving, book, .]        \n",
       "2  [bought, zoku, quick, pop, daughterr, zoku, quick, maker, .]  \n",
       "3  [loves, fun, make, ice, cream, .]                             \n",
       "4  [hoping, came, .]                                             "
      ]
     },
     "execution_count": 211,
     "metadata": {},
     "output_type": "execute_result"
    }
   ],
   "source": [
    "#converting tokens into lowercase\n",
    "#and\n",
    "#Removing special characters\n",
    "pattern= r'[!#\"$%&()*+/:;<=,>@\\[\\\\\\]^`{\\}~\\t\\n]+'\n",
    "\n",
    "def remove_special_chars(item):\n",
    "    global pattern\n",
    "    temp_list = [re.sub(pattern,'', x.lower()) for x in item]\n",
    "    return [i for i in temp_list if i]\n",
    "\n",
    "def remove_stop_words(item):\n",
    "    return [i for i in item if (i not in stop_words)]\n",
    "\n",
    "df['tokenized'] = df['tokenized'].apply(remove_special_chars)\n",
    "df['tokenized_no_stopwords'] = df['tokenized'].apply(remove_stop_words)\n",
    "\n",
    "df.head()"
   ]
  },
  {
   "cell_type": "code",
   "execution_count": 215,
   "metadata": {},
   "outputs": [],
   "source": [
    "#SHUFFLING (UNCOMMENT FOLLOWING IF NEED TO SHUFFLE ALSO)\n",
    "# df = df.sample(frac=1).reset_index(drop=True)\n",
    "\n",
    "# shuffle_dataset (my own shuffle code from scratch) uncomment the following method to test\n",
    "# def shuffle_in_place(array):\n",
    "#     array_len = len(array)\n",
    "#     assert array_len > 2, 'This list is very short to shuffle'\n",
    "#     for index in range(array_len):\n",
    "#         swap = random.randrange(array_len - 1)\n",
    "#         swap += swap >= index\n",
    "#         array.iloc[index], array.iloc[swap] = array.iloc[swap], array.iloc[index]\n",
    "        \n",
    "# # arr=[1,2,3,4,5,6]\n",
    "# shuffle_in_place(df)\n",
    "# df.head()"
   ]
  },
  {
   "cell_type": "code",
   "execution_count": 213,
   "metadata": {
    "scrolled": true
   },
   "outputs": [],
   "source": [
    "#####IN CASE YOU WANT TO REMOVE [ ] BRACKETS WHICH ARE WRITTEN BEFORE AND AFTER EACH SENTENCE IN THE FINAL CSV\n",
    "#####JUST UNCOMMENT THE FOLLOWING CODE\n",
    "\n",
    "# def list_to_string(item):\n",
    "#     return \",\".join(item)\n",
    "\n",
    "# df['tokenized'] = df['tokenized'].apply(list_to_string)\n",
    "# df['tokenized_no_stopwords'] = df['tokenized_no_stopwords'].apply(list_to_string)\n",
    "\n",
    "# df.head()"
   ]
  },
  {
   "cell_type": "code",
   "execution_count": null,
   "metadata": {},
   "outputs": [],
   "source": []
  },
  {
   "cell_type": "code",
   "execution_count": null,
   "metadata": {},
   "outputs": [],
   "source": []
  },
  {
   "cell_type": "code",
   "execution_count": 217,
   "metadata": {},
   "outputs": [
    {
     "name": "stdout",
     "output_type": "stream",
     "text": [
      "399655\n",
      "319724\n",
      "39966\n",
      "39965\n"
     ]
    }
   ],
   "source": [
    "#split into traning, validation, test\n",
    "print(len(df))\n",
    "train_end=int(0.8 * len(df))\n",
    "\n",
    "validation_end=int(train_end+ 0.1 * len(df))\n",
    "\n",
    "train_set = df[0:train_end]\n",
    "validation_set = df[train_end:validation_end+1]\n",
    "test_set = df[validation_end+1:len(df)]\n",
    "\n",
    "#save_lists\n",
    "train_list= list(train_set['tokenized'])\n",
    "val_list= list(validation_set['tokenized'])\n",
    "test_list= list(test_set['tokenized'])\n",
    "\n",
    "\n",
    "np.savetxt(\"train.csv\", train_list, delimiter=\",\", fmt='%s')\n",
    "np.savetxt(\"val.csv\", val_list, delimiter=\",\", fmt='%s')\n",
    "np.savetxt(\"test.csv\", test_list, delimiter=\",\", fmt='%s')\n",
    "\n",
    "\n",
    "print(len(train_list))\n",
    "print(len(val_list))\n",
    "print(len(test_set))\n",
    "# train_set.head()\n",
    "\n"
   ]
  },
  {
   "cell_type": "code",
   "execution_count": null,
   "metadata": {},
   "outputs": [],
   "source": []
  },
  {
   "cell_type": "code",
   "execution_count": null,
   "metadata": {},
   "outputs": [],
   "source": []
  },
  {
   "cell_type": "code",
   "execution_count": null,
   "metadata": {},
   "outputs": [],
   "source": []
  }
 ],
 "metadata": {
  "kernelspec": {
   "display_name": "Python 3",
   "language": "python",
   "name": "python3"
  },
  "language_info": {
   "codemirror_mode": {
    "name": "ipython",
    "version": 3
   },
   "file_extension": ".py",
   "mimetype": "text/x-python",
   "name": "python",
   "nbconvert_exporter": "python",
   "pygments_lexer": "ipython3",
   "version": "3.7.3"
  }
 },
 "nbformat": 4,
 "nbformat_minor": 2
}
