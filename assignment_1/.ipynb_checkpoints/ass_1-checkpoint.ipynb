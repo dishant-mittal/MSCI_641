{
 "cells": [
  {
   "cell_type": "code",
   "execution_count": 1,
   "metadata": {},
   "outputs": [
    {
     "name": "stdout",
     "output_type": "stream",
     "text": [
      "/home/dishant/projects/MSCI_641/assignment_1\n"
     ]
    }
   ],
   "source": [
    "import pandas as pd\n",
    "import random\n",
    "import os\n",
    "pd.set_option('display.max_columns', 136)\n",
    "pd.set_option('display.max_colwidth', -1)\n",
    "\n",
    "#print current working directory\n",
    "cwd = os.getcwd()\n",
    "print(cwd)"
   ]
  },
  {
   "cell_type": "code",
   "execution_count": 2,
   "metadata": {},
   "outputs": [
    {
     "data": {
      "text/html": [
       "<div>\n",
       "<style scoped>\n",
       "    .dataframe tbody tr th:only-of-type {\n",
       "        vertical-align: middle;\n",
       "    }\n",
       "\n",
       "    .dataframe tbody tr th {\n",
       "        vertical-align: top;\n",
       "    }\n",
       "\n",
       "    .dataframe thead th {\n",
       "        text-align: right;\n",
       "    }\n",
       "</style>\n",
       "<table border=\"1\" class=\"dataframe\">\n",
       "  <thead>\n",
       "    <tr style=\"text-align: right;\">\n",
       "      <th></th>\n",
       "      <th>reviews</th>\n",
       "    </tr>\n",
       "  </thead>\n",
       "  <tbody>\n",
       "    <tr>\n",
       "      <th>0</th>\n",
       "      <td>My daughter wanted this book and the price on Amazon was the best.</td>\n",
       "    </tr>\n",
       "    <tr>\n",
       "      <th>1</th>\n",
       "      <td>She has already tried one recipe a day after receiving the book.</td>\n",
       "    </tr>\n",
       "    <tr>\n",
       "      <th>2</th>\n",
       "      <td>I bought this zoku quick pop for my daughterr with her zoku quick maker.</td>\n",
       "    </tr>\n",
       "    <tr>\n",
       "      <th>3</th>\n",
       "      <td>She loves it and have fun to make her own ice cream.</td>\n",
       "    </tr>\n",
       "    <tr>\n",
       "      <th>4</th>\n",
       "      <td>I was hoping there were more where those came from.</td>\n",
       "    </tr>\n",
       "  </tbody>\n",
       "</table>\n",
       "</div>"
      ],
      "text/plain": [
       "                                                                    reviews\n",
       "0  My daughter wanted this book and the price on Amazon was the best.      \n",
       "1  She has already tried one recipe a day after receiving the book.        \n",
       "2  I bought this zoku quick pop for my daughterr with her zoku quick maker.\n",
       "3  She loves it and have fun to make her own ice cream.                    \n",
       "4  I was hoping there were more where those came from.                     "
      ]
     },
     "execution_count": 2,
     "metadata": {},
     "output_type": "execute_result"
    }
   ],
   "source": [
    "#Read data\n",
    "cols = [\"reviews\"]\n",
    "data_1 = pd.read_csv('../data/pos.txt', names=cols, sep=\"\\n\",header=None)\n",
    "# print(len(data_1))\n",
    "data_2 = pd.read_csv('../data/neg.txt', names=cols, sep=\"\\n\",header=None)\n",
    "# print(len(data_2))\n",
    "df=data_1.append(data_2)\n",
    "# print(len(data))\n",
    "df.head()"
   ]
  },
  {
   "cell_type": "code",
   "execution_count": 3,
   "metadata": {},
   "outputs": [
    {
     "data": {
      "text/html": [
       "<div>\n",
       "<style scoped>\n",
       "    .dataframe tbody tr th:only-of-type {\n",
       "        vertical-align: middle;\n",
       "    }\n",
       "\n",
       "    .dataframe tbody tr th {\n",
       "        vertical-align: top;\n",
       "    }\n",
       "\n",
       "    .dataframe thead th {\n",
       "        text-align: right;\n",
       "    }\n",
       "</style>\n",
       "<table border=\"1\" class=\"dataframe\">\n",
       "  <thead>\n",
       "    <tr style=\"text-align: right;\">\n",
       "      <th></th>\n",
       "      <th>reviews</th>\n",
       "    </tr>\n",
       "  </thead>\n",
       "  <tbody>\n",
       "    <tr>\n",
       "      <th>0</th>\n",
       "      <td>My daughter wanted this book and the price on Amazon was the best.</td>\n",
       "    </tr>\n",
       "    <tr>\n",
       "      <th>1</th>\n",
       "      <td>She has already tried one recipe a day after receiving the book.</td>\n",
       "    </tr>\n",
       "    <tr>\n",
       "      <th>2</th>\n",
       "      <td>I bought this zoku quick pop for my daughterr with her zoku quick maker.</td>\n",
       "    </tr>\n",
       "    <tr>\n",
       "      <th>3</th>\n",
       "      <td>She loves it and have fun to make her own ice cream.</td>\n",
       "    </tr>\n",
       "    <tr>\n",
       "      <th>4</th>\n",
       "      <td>I was hoping there were more where those came from.</td>\n",
       "    </tr>\n",
       "  </tbody>\n",
       "</table>\n",
       "</div>"
      ],
      "text/plain": [
       "                                                                    reviews\n",
       "0  My daughter wanted this book and the price on Amazon was the best.      \n",
       "1  She has already tried one recipe a day after receiving the book.        \n",
       "2  I bought this zoku quick pop for my daughterr with her zoku quick maker.\n",
       "3  She loves it and have fun to make her own ice cream.                    \n",
       "4  I was hoping there were more where those came from.                     "
      ]
     },
     "execution_count": 3,
     "metadata": {},
     "output_type": "execute_result"
    }
   ],
   "source": [
    "#Removing special characters\n",
    "pattern= r'[!#\"$%&()*+/:;<=>@\\[\\\\\\]^`{\\}~\\t\\n]+'\n",
    "df['reviews']=df['reviews'].str.replace(pattern,'')\n",
    "df.head()"
   ]
  },
  {
   "cell_type": "code",
   "execution_count": 142,
   "metadata": {
    "scrolled": true
   },
   "outputs": [
    {
     "data": {
      "text/html": [
       "<div>\n",
       "<style scoped>\n",
       "    .dataframe tbody tr th:only-of-type {\n",
       "        vertical-align: middle;\n",
       "    }\n",
       "\n",
       "    .dataframe tbody tr th {\n",
       "        vertical-align: top;\n",
       "    }\n",
       "\n",
       "    .dataframe thead th {\n",
       "        text-align: right;\n",
       "    }\n",
       "</style>\n",
       "<table border=\"1\" class=\"dataframe\">\n",
       "  <thead>\n",
       "    <tr style=\"text-align: right;\">\n",
       "      <th></th>\n",
       "      <th>reviews</th>\n",
       "    </tr>\n",
       "  </thead>\n",
       "  <tbody>\n",
       "    <tr>\n",
       "      <th>0</th>\n",
       "      <td>[My, daughter, wanted, this, book, and, the, price, on, Amazon, was, the, best.]</td>\n",
       "    </tr>\n",
       "    <tr>\n",
       "      <th>1</th>\n",
       "      <td>[She, has, already, tried, one, recipe, a, day, after, receiving, the, book.]</td>\n",
       "    </tr>\n",
       "    <tr>\n",
       "      <th>2</th>\n",
       "      <td>[I, bought, this, zoku, quick, pop, for, my, daughterr, with, her, zoku, quick, maker.]</td>\n",
       "    </tr>\n",
       "    <tr>\n",
       "      <th>3</th>\n",
       "      <td>[She, loves, it, and, have, fun, to, make, her, own, ice, cream.]</td>\n",
       "    </tr>\n",
       "    <tr>\n",
       "      <th>4</th>\n",
       "      <td>[I, was, hoping, there, were, more, where, those, came, from.]</td>\n",
       "    </tr>\n",
       "  </tbody>\n",
       "</table>\n",
       "</div>"
      ],
      "text/plain": [
       "                                                                                   reviews\n",
       "0  [My, daughter, wanted, this, book, and, the, price, on, Amazon, was, the, best.]       \n",
       "1  [She, has, already, tried, one, recipe, a, day, after, receiving, the, book.]          \n",
       "2  [I, bought, this, zoku, quick, pop, for, my, daughterr, with, her, zoku, quick, maker.]\n",
       "3  [She, loves, it, and, have, fun, to, make, her, own, ice, cream.]                      \n",
       "4  [I, was, hoping, there, were, more, where, those, came, from.]                         "
      ]
     },
     "execution_count": 142,
     "metadata": {},
     "output_type": "execute_result"
    }
   ],
   "source": [
    "df['tokenized'] = df[\"reviews\"].str.split(\" \", expand = False)\n",
    "df.head()"
   ]
  },
  {
   "cell_type": "code",
   "execution_count": null,
   "metadata": {},
   "outputs": [],
   "source": []
  },
  {
   "cell_type": "code",
   "execution_count": 143,
   "metadata": {},
   "outputs": [
    {
     "data": {
      "text/html": [
       "<div>\n",
       "<style scoped>\n",
       "    .dataframe tbody tr th:only-of-type {\n",
       "        vertical-align: middle;\n",
       "    }\n",
       "\n",
       "    .dataframe tbody tr th {\n",
       "        vertical-align: top;\n",
       "    }\n",
       "\n",
       "    .dataframe thead th {\n",
       "        text-align: right;\n",
       "    }\n",
       "</style>\n",
       "<table border=\"1\" class=\"dataframe\">\n",
       "  <thead>\n",
       "    <tr style=\"text-align: right;\">\n",
       "      <th></th>\n",
       "      <th>reviews</th>\n",
       "    </tr>\n",
       "  </thead>\n",
       "  <tbody>\n",
       "    <tr>\n",
       "      <th>0</th>\n",
       "      <td>[Reason, I, only, gave, it, 4, stars, -, the, cord, is, way,, way, too, short, Otherwise,, no, complaints, about, this, beautiful, perculator.]</td>\n",
       "    </tr>\n",
       "    <tr>\n",
       "      <th>1</th>\n",
       "      <td>[America's, Test, Kitchen, was, right, when, this, was, their, top, garlic, press.]</td>\n",
       "    </tr>\n",
       "    <tr>\n",
       "      <th>2</th>\n",
       "      <td>[It, also, is, difficult, to, hold, the, meat,, cheese,, or, whatever, and, press, the, button, and, move, it, to, slice, all, at, the, same, time.]</td>\n",
       "    </tr>\n",
       "    <tr>\n",
       "      <th>3</th>\n",
       "      <td>[I, guessed, wrong, on, this, one,, expecting, the, one, at, a, time, version.]</td>\n",
       "    </tr>\n",
       "    <tr>\n",
       "      <th>4</th>\n",
       "      <td>[For, me,, it, doesn't, offer, much,, and, the, premium, service, is, definitely, not, worth, the, money.]</td>\n",
       "    </tr>\n",
       "  </tbody>\n",
       "</table>\n",
       "</div>"
      ],
      "text/plain": [
       "                                                                                                                                                reviews\n",
       "0  [Reason, I, only, gave, it, 4, stars, -, the, cord, is, way,, way, too, short, Otherwise,, no, complaints, about, this, beautiful, perculator.]     \n",
       "1  [America's, Test, Kitchen, was, right, when, this, was, their, top, garlic, press.]                                                                 \n",
       "2  [It, also, is, difficult, to, hold, the, meat,, cheese,, or, whatever, and, press, the, button, and, move, it, to, slice, all, at, the, same, time.]\n",
       "3  [I, guessed, wrong, on, this, one,, expecting, the, one, at, a, time, version.]                                                                     \n",
       "4  [For, me,, it, doesn't, offer, much,, and, the, premium, service, is, definitely, not, worth, the, money.]                                          "
      ]
     },
     "execution_count": 143,
     "metadata": {},
     "output_type": "execute_result"
    }
   ],
   "source": [
    "#tokenize\n",
    "def shuffle_in_place(array):\n",
    "    array_len = len(array)\n",
    "    assert array_len > 2, 'This list is very short to shuffle'\n",
    "    for index in range(array_len):\n",
    "        swap = random.randrange(array_len - 1)\n",
    "        swap += swap >= index\n",
    "        array.iloc[index], array.iloc[swap] = array.iloc[swap], array.iloc[index]\n",
    "        \n",
    "        \n",
    "\n",
    "# arr=[1,2,3,4,5,6]\n",
    "shuffle_in_place(df)\n",
    "df.head()"
   ]
  },
  {
   "cell_type": "code",
   "execution_count": 149,
   "metadata": {},
   "outputs": [
    {
     "name": "stdout",
     "output_type": "stream",
     "text": [
      "639292\n",
      "159823\n",
      "0\n"
     ]
    },
    {
     "data": {
      "text/html": [
       "<div>\n",
       "<style scoped>\n",
       "    .dataframe tbody tr th:only-of-type {\n",
       "        vertical-align: middle;\n",
       "    }\n",
       "\n",
       "    .dataframe tbody tr th {\n",
       "        vertical-align: top;\n",
       "    }\n",
       "\n",
       "    .dataframe thead th {\n",
       "        text-align: right;\n",
       "    }\n",
       "</style>\n",
       "<table border=\"1\" class=\"dataframe\">\n",
       "  <thead>\n",
       "    <tr style=\"text-align: right;\">\n",
       "      <th></th>\n",
       "      <th>reviews</th>\n",
       "    </tr>\n",
       "  </thead>\n",
       "  <tbody>\n",
       "    <tr>\n",
       "      <th>0</th>\n",
       "      <td>[Reason, I, only, gave, it, 4, stars, -, the, cord, is, way,, way, too, short, Otherwise,, no, complaints, about, this, beautiful, perculator.]</td>\n",
       "    </tr>\n",
       "    <tr>\n",
       "      <th>1</th>\n",
       "      <td>[America's, Test, Kitchen, was, right, when, this, was, their, top, garlic, press.]</td>\n",
       "    </tr>\n",
       "    <tr>\n",
       "      <th>2</th>\n",
       "      <td>[It, also, is, difficult, to, hold, the, meat,, cheese,, or, whatever, and, press, the, button, and, move, it, to, slice, all, at, the, same, time.]</td>\n",
       "    </tr>\n",
       "    <tr>\n",
       "      <th>3</th>\n",
       "      <td>[I, guessed, wrong, on, this, one,, expecting, the, one, at, a, time, version.]</td>\n",
       "    </tr>\n",
       "    <tr>\n",
       "      <th>4</th>\n",
       "      <td>[For, me,, it, doesn't, offer, much,, and, the, premium, service, is, definitely, not, worth, the, money.]</td>\n",
       "    </tr>\n",
       "  </tbody>\n",
       "</table>\n",
       "</div>"
      ],
      "text/plain": [
       "                                                                                                                                                reviews\n",
       "0  [Reason, I, only, gave, it, 4, stars, -, the, cord, is, way,, way, too, short, Otherwise,, no, complaints, about, this, beautiful, perculator.]     \n",
       "1  [America's, Test, Kitchen, was, right, when, this, was, their, top, garlic, press.]                                                                 \n",
       "2  [It, also, is, difficult, to, hold, the, meat,, cheese,, or, whatever, and, press, the, button, and, move, it, to, slice, all, at, the, same, time.]\n",
       "3  [I, guessed, wrong, on, this, one,, expecting, the, one, at, a, time, version.]                                                                     \n",
       "4  [For, me,, it, doesn't, offer, much,, and, the, premium, service, is, definitely, not, worth, the, money.]                                          "
      ]
     },
     "execution_count": 149,
     "metadata": {},
     "output_type": "execute_result"
    }
   ],
   "source": [
    "#split into traning, validation, test\n",
    "\n",
    "train_end=int(0.8 * len(df))\n",
    "validation_end=int(train_end+0.2 * len(df))\n",
    "\n",
    "train_set = df[:train_end]\n",
    "validation_set = df[train_end:validation_end]\n",
    "test_set = df[validation_end:len(df)]\n",
    "\n",
    "print(len(train_set))\n",
    "print(len(validation_set))\n",
    "print(len(test_set))\n",
    "train_set.head()\n"
   ]
  },
  {
   "cell_type": "code",
   "execution_count": null,
   "metadata": {},
   "outputs": [],
   "source": []
  }
 ],
 "metadata": {
  "kernelspec": {
   "display_name": "Python 3",
   "language": "python",
   "name": "python3"
  },
  "language_info": {
   "codemirror_mode": {
    "name": "ipython",
    "version": 3
   },
   "file_extension": ".py",
   "mimetype": "text/x-python",
   "name": "python",
   "nbconvert_exporter": "python",
   "pygments_lexer": "ipython3",
   "version": "3.7.3"
  }
 },
 "nbformat": 4,
 "nbformat_minor": 2
}
